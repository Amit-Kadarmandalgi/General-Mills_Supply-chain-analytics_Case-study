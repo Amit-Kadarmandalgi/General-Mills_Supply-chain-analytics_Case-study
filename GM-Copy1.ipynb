{
 "cells": [
  {
   "cell_type": "markdown",
   "id": "12feb7d8",
   "metadata": {},
   "source": [
    "#  Data Pre processing:\n",
    "\n",
    "First, you need to clean and preprocess your data. Ensure that the dataset is in a suitable format for analysis. \n",
    "Check for data info and data type Convert date columns to datetime objects if they are not already"
   ]
  },
  {
   "cell_type": "code",
   "execution_count": 3,
   "id": "6e39ae2b",
   "metadata": {},
   "outputs": [],
   "source": [
    "import pandas as pd\n",
    "import seaborn as sns\n",
    "import matplotlib.pyplot as plt\n",
    "import numpy as np\n",
    "\n",
    "# Load your dataset\n",
    "data = pd.read_csv('C:/Users/Amit Kadarmandalgi/OneDrive/Documents/projects n case studies/case studies/gm/Data.csv')"
   ]
  },
  {
   "cell_type": "code",
   "execution_count": 4,
   "id": "8aecc490",
   "metadata": {},
   "outputs": [
    {
     "data": {
      "text/html": [
       "<div>\n",
       "<style scoped>\n",
       "    .dataframe tbody tr th:only-of-type {\n",
       "        vertical-align: middle;\n",
       "    }\n",
       "\n",
       "    .dataframe tbody tr th {\n",
       "        vertical-align: top;\n",
       "    }\n",
       "\n",
       "    .dataframe thead th {\n",
       "        text-align: right;\n",
       "    }\n",
       "</style>\n",
       "<table border=\"1\" class=\"dataframe\">\n",
       "  <thead>\n",
       "    <tr style=\"text-align: right;\">\n",
       "      <th></th>\n",
       "      <th>Vendor</th>\n",
       "      <th>Material Decription</th>\n",
       "      <th>Plant</th>\n",
       "      <th>Bulk Identifier</th>\n",
       "      <th>Fph Owning Div DY</th>\n",
       "      <th>X vs Vendor Managed</th>\n",
       "      <th>Matl Ty Cd</th>\n",
       "      <th>Plant : X or Y</th>\n",
       "      <th>Shp Cond DY</th>\n",
       "      <th>Arrival Dt</th>\n",
       "      <th>PO Creation Dt</th>\n",
       "      <th>PO Delivery Dt</th>\n",
       "      <th>Statistical Relevancy Dt</th>\n",
       "    </tr>\n",
       "  </thead>\n",
       "  <tbody>\n",
       "    <tr>\n",
       "      <th>count</th>\n",
       "      <td>16230</td>\n",
       "      <td>16230</td>\n",
       "      <td>16230</td>\n",
       "      <td>16230</td>\n",
       "      <td>16199</td>\n",
       "      <td>16230</td>\n",
       "      <td>16230</td>\n",
       "      <td>16230</td>\n",
       "      <td>16230</td>\n",
       "      <td>16202</td>\n",
       "      <td>16230</td>\n",
       "      <td>16230</td>\n",
       "      <td>16230</td>\n",
       "    </tr>\n",
       "    <tr>\n",
       "      <th>unique</th>\n",
       "      <td>185</td>\n",
       "      <td>20</td>\n",
       "      <td>4</td>\n",
       "      <td>2</td>\n",
       "      <td>8</td>\n",
       "      <td>3</td>\n",
       "      <td>2</td>\n",
       "      <td>2</td>\n",
       "      <td>6</td>\n",
       "      <td>387</td>\n",
       "      <td>359</td>\n",
       "      <td>371</td>\n",
       "      <td>355</td>\n",
       "    </tr>\n",
       "    <tr>\n",
       "      <th>top</th>\n",
       "      <td>V146</td>\n",
       "      <td>FIBER</td>\n",
       "      <td>Rockman Manufacturing</td>\n",
       "      <td>NON BULK</td>\n",
       "      <td>NA FOODSERVICE</td>\n",
       "      <td>Vendor Managed</td>\n",
       "      <td>INGR</td>\n",
       "      <td>X</td>\n",
       "      <td>Vendor Delivered</td>\n",
       "      <td>20-07-2022</td>\n",
       "      <td>20-12-2022</td>\n",
       "      <td>15-07-2022</td>\n",
       "      <td>15-07-2022</td>\n",
       "    </tr>\n",
       "    <tr>\n",
       "      <th>freq</th>\n",
       "      <td>1129</td>\n",
       "      <td>4286</td>\n",
       "      <td>6544</td>\n",
       "      <td>11547</td>\n",
       "      <td>6559</td>\n",
       "      <td>13055</td>\n",
       "      <td>10086</td>\n",
       "      <td>8685</td>\n",
       "      <td>13146</td>\n",
       "      <td>93</td>\n",
       "      <td>182</td>\n",
       "      <td>125</td>\n",
       "      <td>118</td>\n",
       "    </tr>\n",
       "  </tbody>\n",
       "</table>\n",
       "</div>"
      ],
      "text/plain": [
       "       Vendor Material Decription                  Plant Bulk Identifier  \\\n",
       "count   16230               16230                  16230           16230   \n",
       "unique    185                  20                      4               2   \n",
       "top      V146               FIBER  Rockman Manufacturing        NON BULK   \n",
       "freq     1129                4286                   6544           11547   \n",
       "\n",
       "       Fph Owning Div DY X vs Vendor Managed Matl Ty Cd Plant : X or Y   \\\n",
       "count              16199               16230      16230           16230   \n",
       "unique                 8                   3          2               2   \n",
       "top       NA FOODSERVICE      Vendor Managed       INGR               X   \n",
       "freq                6559               13055      10086            8685   \n",
       "\n",
       "             Shp Cond DY  Arrival Dt PO Creation Dt PO Delivery Dt  \\\n",
       "count              16230       16202          16230          16230   \n",
       "unique                 6         387            359            371   \n",
       "top     Vendor Delivered  20-07-2022     20-12-2022     15-07-2022   \n",
       "freq               13146          93            182            125   \n",
       "\n",
       "       Statistical Relevancy Dt  \n",
       "count                     16230  \n",
       "unique                      355  \n",
       "top                  15-07-2022  \n",
       "freq                        118  "
      ]
     },
     "execution_count": 4,
     "metadata": {},
     "output_type": "execute_result"
    }
   ],
   "source": [
    "#Explore the dataset to understand its structure and contents\n",
    "data.describe()"
   ]
  },
  {
   "cell_type": "code",
   "execution_count": 5,
   "id": "2a53e6aa",
   "metadata": {},
   "outputs": [
    {
     "name": "stdout",
     "output_type": "stream",
     "text": [
      "<class 'pandas.core.frame.DataFrame'>\n",
      "RangeIndex: 16230 entries, 0 to 16229\n",
      "Data columns (total 13 columns):\n",
      " #   Column                    Non-Null Count  Dtype \n",
      "---  ------                    --------------  ----- \n",
      " 0   Vendor                    16230 non-null  object\n",
      " 1   Material Decription       16230 non-null  object\n",
      " 2   Plant                     16230 non-null  object\n",
      " 3   Bulk Identifier           16230 non-null  object\n",
      " 4   Fph Owning Div DY         16199 non-null  object\n",
      " 5   X vs Vendor Managed       16230 non-null  object\n",
      " 6   Matl Ty Cd                16230 non-null  object\n",
      " 7   Plant : X or Y            16230 non-null  object\n",
      " 8   Shp Cond DY               16230 non-null  object\n",
      " 9   Arrival Dt                16202 non-null  object\n",
      " 10  PO Creation Dt            16230 non-null  object\n",
      " 11  PO Delivery Dt            16230 non-null  object\n",
      " 12  Statistical Relevancy Dt  16230 non-null  object\n",
      "dtypes: object(13)\n",
      "memory usage: 1.6+ MB\n"
     ]
    }
   ],
   "source": [
    "data.info()"
   ]
  },
  {
   "cell_type": "code",
   "execution_count": 6,
   "id": "275eed91",
   "metadata": {},
   "outputs": [],
   "source": [
    "data = data.rename(columns={'Material Decription': 'Material Description'})"
   ]
  },
  {
   "cell_type": "code",
   "execution_count": 7,
   "id": "3eab1bf7",
   "metadata": {},
   "outputs": [
    {
     "name": "stdout",
     "output_type": "stream",
     "text": [
      "<class 'pandas.core.frame.DataFrame'>\n",
      "Int64Index: 16171 entries, 0 to 16229\n",
      "Data columns (total 13 columns):\n",
      " #   Column                    Non-Null Count  Dtype \n",
      "---  ------                    --------------  ----- \n",
      " 0   Vendor                    16171 non-null  object\n",
      " 1   Material Description      16171 non-null  object\n",
      " 2   Plant                     16171 non-null  object\n",
      " 3   Bulk Identifier           16171 non-null  object\n",
      " 4   Fph Owning Div DY         16171 non-null  object\n",
      " 5   X vs Vendor Managed       16171 non-null  object\n",
      " 6   Matl Ty Cd                16171 non-null  object\n",
      " 7   Plant : X or Y            16171 non-null  object\n",
      " 8   Shp Cond DY               16171 non-null  object\n",
      " 9   Arrival Dt                16171 non-null  object\n",
      " 10  PO Creation Dt            16171 non-null  object\n",
      " 11  PO Delivery Dt            16171 non-null  object\n",
      " 12  Statistical Relevancy Dt  16171 non-null  object\n",
      "dtypes: object(13)\n",
      "memory usage: 1.7+ MB\n"
     ]
    }
   ],
   "source": [
    "# Check for missing values and handle them if necessary\n",
    "data.dropna(inplace=True)\n",
    "\n",
    "# Post Data Cleaning - dropping NA values without information loss\n",
    "data.info()"
   ]
  },
  {
   "cell_type": "code",
   "execution_count": 8,
   "id": "5e7d7ccc",
   "metadata": {},
   "outputs": [],
   "source": [
    "# Convert date columns to datetime objects if they are not already\n",
    "data['Arrival Dt'] = pd.to_datetime(data['Arrival Dt'], format='%d-%m-%Y')\n",
    "data['PO Creation Dt'] = pd.to_datetime(data['PO Creation Dt'], format='%d-%m-%Y')\n",
    "data['PO Delivery Dt'] = pd.to_datetime(data['PO Delivery Dt'], format='%d-%m-%Y')\n",
    "data['Statistical Relevancy Dt'] = pd.to_datetime(data['Statistical Relevancy Dt'], format='%d-%m-%Y')"
   ]
  },
  {
   "cell_type": "markdown",
   "id": "5c75307e",
   "metadata": {},
   "source": [
    "# 1. Calculating Safety Time and simulating Optimal Value\n",
    "\n",
    "Perform EDA to gain insights into the dataset and identify patterns or trends. Visualizations and summary statistics can help with this. Here's an example using matplotlib and seaborn for visualization:"
   ]
  },
  {
   "cell_type": "code",
   "execution_count": 9,
   "id": "6799e3d3",
   "metadata": {
    "scrolled": true
   },
   "outputs": [
    {
     "data": {
      "image/png": "[encoded data removed]",
      "text/plain": [
       "<Figure size 432x288 with 1 Axes>"
      ]
     },
     "metadata": {
      "needs_background": "light"
     },
     "output_type": "display_data"
    }
   ],
   "source": [
    "# Time series analysis\n",
    "data['Lead Time'] = (data['PO Delivery Dt'] - data['PO Creation Dt']).dt.days\n",
    "data['Delivery Delay'] = (data['PO Delivery Dt'] - data['Arrival Dt']).dt.days\n",
    "import matplotlib.pyplot as plt\n",
    "\n",
    "# Create a figure and axis\n",
    "fig, ax = plt.subplots()\n",
    "\n",
    "# Create histograms for Lead Time and Delivery Delay\n",
    "lead_time_color = '#234291'  # Blue\n",
    "delivery_delay_color = '#E32123'  # Red\n",
    "\n",
    "ax.hist(data['Lead Time'], bins=20, alpha=0.8, color=lead_time_color, label='Lead Time')\n",
    "ax.hist(data['Delivery Delay'], bins=20, alpha=0.8, color=delivery_delay_color, label='Delivery Delay')\n",
    "\n",
    "# Add labels, title, and legend\n",
    "ax.set_xlabel('Days')\n",
    "ax.set_ylabel('Frequency')\n",
    "ax.set_title('Lead Time and Delivery Delay Histograms')\n",
    "ax.legend()\n",
    "\n",
    "# Display the plot\n",
    "plt.show()\n"
   ]
  },
  {
   "cell_type": "markdown",
   "id": "612e29ef",
   "metadata": {},
   "source": [
    "<b>Inference:</b> From the plot it is clear that there is some scope for safet time conisdering ther is excess lead time and some delivery delay."
   ]
  },
  {
   "cell_type": "markdown",
   "id": "47c4e2a8",
   "metadata": {},
   "source": [
    "To Calculate safety days based on your business rules or historical data, we simulate different scenarios or make recommendations to optimize safety days.\n",
    "Statistical relevancy date is reference date for calculating or analyzing various supply chain metrics, including safety days, inventory levels, or other performance indicators. \n",
    "Analyze how safety time is affected by different categories, including volume, shelf life, modes of transport, and origin of shipment.\n",
    "Determine the optimal safety time based on your business constraints and objectives. You can use optimization techniques or cost analysis."
   ]
  },
  {
   "cell_type": "code",
   "execution_count": 10,
   "id": "fc2e1bbf",
   "metadata": {},
   "outputs": [],
   "source": [
    "# Calculate safety days\n",
    "data['Safety Time'] = data['PO Delivery Dt'] - data['Statistical Relevancy Dt']\n",
    "data['Safety Days'] = data['Safety Time'].dt.days"
   ]
  },
  {
   "cell_type": "code",
   "execution_count": 11,
   "id": "ab349636",
   "metadata": {},
   "outputs": [
    {
     "data": {
      "text/plain": [
       "0.3320759384082617"
      ]
     },
     "execution_count": 11,
     "metadata": {},
     "output_type": "execute_result"
    }
   ],
   "source": [
    "data['Safety Days'].mean()"
   ]
  },
  {
   "cell_type": "markdown",
   "id": "cee2b461",
   "metadata": {},
   "source": [
    "The code is an example of numerical optimization using the minimize function from the SciPy library. It aims to find the optimal value of \"safety_days\" that minimizes a cost function. In this specific example, the cost function is a simple quadratic function, where the goal is to find the value of \"safety_days\" that minimizes the squared difference from the value 5. The minimize function iteratively searches for the optimal value by adjusting the initial guess (in this case, \"initial_guess\") and minimizing the cost function using the BFGS optimization method."
   ]
  },
  {
   "cell_type": "code",
   "execution_count": 12,
   "id": "a3b3782a",
   "metadata": {},
   "outputs": [
    {
     "name": "stdout",
     "output_type": "stream",
     "text": [
      "Optimal Safety Days: 4.999999987147814\n",
      "Minimized Cost: 1.6517868451916196e-16\n"
     ]
    }
   ],
   "source": [
    "from scipy.optimize import minimize\n",
    "\n",
    "# Define the cost function to be minimized\n",
    "def cost_function(safety_days):\n",
    "    # Your cost calculation logic here\n",
    "    # In this example, we use a simple quadratic cost function as an illustration.\n",
    "    return (safety_days - 5) ** 2\n",
    "\n",
    "# Initial guess for safety days\n",
    "initial_guess = 1\n",
    "\n",
    "# Use the minimize function to find the optimal safety days\n",
    "result = minimize(cost_function, initial_guess, method='BFGS')\n",
    "\n",
    "optimal_safety_days = result.x[0]\n",
    "minimized_cost = result.fun\n",
    "\n",
    "print(f\"Optimal Safety Days: {optimal_safety_days}\")\n",
    "print(f\"Minimized Cost: {minimized_cost}\")"
   ]
  },
  {
   "cell_type": "markdown",
   "id": "b1f24170",
   "metadata": {},
   "source": [
    "<b>Inference:</b> So apporximately 5 days is an optimum safety time bandwidth which also maintains a minimal cost."
   ]
  },
  {
   "cell_type": "code",
   "execution_count": 13,
   "id": "b93e93c8",
   "metadata": {},
   "outputs": [
    {
     "data": {
      "text/html": [
       "<div>\n",
       "<style scoped>\n",
       "    .dataframe tbody tr th:only-of-type {\n",
       "        vertical-align: middle;\n",
       "    }\n",
       "\n",
       "    .dataframe tbody tr th {\n",
       "        vertical-align: top;\n",
       "    }\n",
       "\n",
       "    .dataframe thead th {\n",
       "        text-align: right;\n",
       "    }\n",
       "</style>\n",
       "<table border=\"1\" class=\"dataframe\">\n",
       "  <thead>\n",
       "    <tr style=\"text-align: right;\">\n",
       "      <th></th>\n",
       "      <th>Vendor</th>\n",
       "      <th>Material Description</th>\n",
       "      <th>Plant</th>\n",
       "      <th>Bulk Identifier</th>\n",
       "      <th>Fph Owning Div DY</th>\n",
       "      <th>X vs Vendor Managed</th>\n",
       "      <th>Matl Ty Cd</th>\n",
       "      <th>Plant : X or Y</th>\n",
       "      <th>Shp Cond DY</th>\n",
       "      <th>Arrival Dt</th>\n",
       "      <th>PO Creation Dt</th>\n",
       "      <th>PO Delivery Dt</th>\n",
       "      <th>Statistical Relevancy Dt</th>\n",
       "      <th>Lead Time</th>\n",
       "      <th>Delivery Delay</th>\n",
       "      <th>Safety Time</th>\n",
       "      <th>Safety Days</th>\n",
       "    </tr>\n",
       "  </thead>\n",
       "  <tbody>\n",
       "    <tr>\n",
       "      <th>0</th>\n",
       "      <td>V1</td>\n",
       "      <td>VALUE-ADDED INGREDIENTS</td>\n",
       "      <td>Supreme Flour Mills</td>\n",
       "      <td>NON BULK</td>\n",
       "      <td>MEALS AND BAKING SOL</td>\n",
       "      <td>Vendor Managed</td>\n",
       "      <td>INGR</td>\n",
       "      <td>X</td>\n",
       "      <td>Vendor Delivered</td>\n",
       "      <td>2023-02-23</td>\n",
       "      <td>2023-01-16</td>\n",
       "      <td>2023-02-24</td>\n",
       "      <td>2023-02-24</td>\n",
       "      <td>39</td>\n",
       "      <td>1</td>\n",
       "      <td>0 days</td>\n",
       "      <td>0</td>\n",
       "    </tr>\n",
       "    <tr>\n",
       "      <th>1</th>\n",
       "      <td>V2</td>\n",
       "      <td>NON-SUCROSE SWEETENERS</td>\n",
       "      <td>Supreme Flour Mills</td>\n",
       "      <td>BULK</td>\n",
       "      <td>SNACKS</td>\n",
       "      <td>Vendor Managed</td>\n",
       "      <td>INGR</td>\n",
       "      <td>X</td>\n",
       "      <td>Vendor Delivered</td>\n",
       "      <td>2022-10-12</td>\n",
       "      <td>2022-09-05</td>\n",
       "      <td>2022-10-12</td>\n",
       "      <td>2022-10-12</td>\n",
       "      <td>37</td>\n",
       "      <td>0</td>\n",
       "      <td>0 days</td>\n",
       "      <td>0</td>\n",
       "    </tr>\n",
       "    <tr>\n",
       "      <th>2</th>\n",
       "      <td>V3</td>\n",
       "      <td>SUGAR</td>\n",
       "      <td>Supreme Flour Mills</td>\n",
       "      <td>NON BULK</td>\n",
       "      <td>MEALS AND BAKING SOL</td>\n",
       "      <td>Vendor Managed</td>\n",
       "      <td>INGR</td>\n",
       "      <td>X</td>\n",
       "      <td>Vendor Delivered</td>\n",
       "      <td>2022-06-24</td>\n",
       "      <td>2022-05-31</td>\n",
       "      <td>2022-06-24</td>\n",
       "      <td>2022-06-24</td>\n",
       "      <td>24</td>\n",
       "      <td>0</td>\n",
       "      <td>0 days</td>\n",
       "      <td>0</td>\n",
       "    </tr>\n",
       "    <tr>\n",
       "      <th>3</th>\n",
       "      <td>V4</td>\n",
       "      <td>NON-SUCROSE SWEETENERS</td>\n",
       "      <td>Rockman Manufacturing</td>\n",
       "      <td>NON BULK</td>\n",
       "      <td>SNACKS</td>\n",
       "      <td>X Managed</td>\n",
       "      <td>INGR</td>\n",
       "      <td>X</td>\n",
       "      <td>Truck-Less Than Load</td>\n",
       "      <td>2023-02-18</td>\n",
       "      <td>2023-01-04</td>\n",
       "      <td>2023-02-13</td>\n",
       "      <td>2023-02-13</td>\n",
       "      <td>40</td>\n",
       "      <td>-5</td>\n",
       "      <td>0 days</td>\n",
       "      <td>0</td>\n",
       "    </tr>\n",
       "    <tr>\n",
       "      <th>4</th>\n",
       "      <td>V5</td>\n",
       "      <td>FIBER</td>\n",
       "      <td>Rockman Manufacturing</td>\n",
       "      <td>NON BULK</td>\n",
       "      <td>SNACKS</td>\n",
       "      <td>X Managed</td>\n",
       "      <td>PACK</td>\n",
       "      <td>X</td>\n",
       "      <td>Truck-Less Than Load</td>\n",
       "      <td>2022-12-20</td>\n",
       "      <td>2022-11-03</td>\n",
       "      <td>2022-12-06</td>\n",
       "      <td>2022-12-06</td>\n",
       "      <td>33</td>\n",
       "      <td>-14</td>\n",
       "      <td>0 days</td>\n",
       "      <td>0</td>\n",
       "    </tr>\n",
       "    <tr>\n",
       "      <th>...</th>\n",
       "      <td>...</td>\n",
       "      <td>...</td>\n",
       "      <td>...</td>\n",
       "      <td>...</td>\n",
       "      <td>...</td>\n",
       "      <td>...</td>\n",
       "      <td>...</td>\n",
       "      <td>...</td>\n",
       "      <td>...</td>\n",
       "      <td>...</td>\n",
       "      <td>...</td>\n",
       "      <td>...</td>\n",
       "      <td>...</td>\n",
       "      <td>...</td>\n",
       "      <td>...</td>\n",
       "      <td>...</td>\n",
       "      <td>...</td>\n",
       "    </tr>\n",
       "    <tr>\n",
       "      <th>16225</th>\n",
       "      <td>V185</td>\n",
       "      <td>STARCHES</td>\n",
       "      <td>Standard Bakery Mix LLC</td>\n",
       "      <td>NON BULK</td>\n",
       "      <td>NA FOODSERVICE</td>\n",
       "      <td>X Managed</td>\n",
       "      <td>INGR</td>\n",
       "      <td>Y</td>\n",
       "      <td>Truck</td>\n",
       "      <td>2022-10-13</td>\n",
       "      <td>2022-08-29</td>\n",
       "      <td>2022-10-12</td>\n",
       "      <td>2022-10-12</td>\n",
       "      <td>44</td>\n",
       "      <td>-1</td>\n",
       "      <td>0 days</td>\n",
       "      <td>0</td>\n",
       "    </tr>\n",
       "    <tr>\n",
       "      <th>16226</th>\n",
       "      <td>V185</td>\n",
       "      <td>NON-SUCROSE SWEETENERS</td>\n",
       "      <td>Supreme Flour Mills</td>\n",
       "      <td>NON BULK</td>\n",
       "      <td>MEALS AND BAKING SOL</td>\n",
       "      <td>X Managed</td>\n",
       "      <td>INGR</td>\n",
       "      <td>X</td>\n",
       "      <td>Truck</td>\n",
       "      <td>2023-03-02</td>\n",
       "      <td>2023-01-23</td>\n",
       "      <td>2023-02-27</td>\n",
       "      <td>2023-02-27</td>\n",
       "      <td>35</td>\n",
       "      <td>-3</td>\n",
       "      <td>0 days</td>\n",
       "      <td>0</td>\n",
       "    </tr>\n",
       "    <tr>\n",
       "      <th>16227</th>\n",
       "      <td>V185</td>\n",
       "      <td>NON-SUCROSE SWEETENERS</td>\n",
       "      <td>Rockman Manufacturing</td>\n",
       "      <td>NON BULK</td>\n",
       "      <td>SNACKS</td>\n",
       "      <td>X Managed</td>\n",
       "      <td>INGR</td>\n",
       "      <td>X</td>\n",
       "      <td>Truck</td>\n",
       "      <td>2022-10-19</td>\n",
       "      <td>2022-09-15</td>\n",
       "      <td>2022-10-19</td>\n",
       "      <td>2022-10-19</td>\n",
       "      <td>34</td>\n",
       "      <td>0</td>\n",
       "      <td>0 days</td>\n",
       "      <td>0</td>\n",
       "    </tr>\n",
       "    <tr>\n",
       "      <th>16228</th>\n",
       "      <td>V185</td>\n",
       "      <td>NON-SUCROSE SWEETENERS</td>\n",
       "      <td>Rockman Manufacturing</td>\n",
       "      <td>NON BULK</td>\n",
       "      <td>SNACKS</td>\n",
       "      <td>X Managed</td>\n",
       "      <td>INGR</td>\n",
       "      <td>X</td>\n",
       "      <td>Truck</td>\n",
       "      <td>2022-11-10</td>\n",
       "      <td>2022-10-12</td>\n",
       "      <td>2022-11-10</td>\n",
       "      <td>2022-11-10</td>\n",
       "      <td>29</td>\n",
       "      <td>0</td>\n",
       "      <td>0 days</td>\n",
       "      <td>0</td>\n",
       "    </tr>\n",
       "    <tr>\n",
       "      <th>16229</th>\n",
       "      <td>V185</td>\n",
       "      <td>STARCHES</td>\n",
       "      <td>Standard Bakery Mix LLC</td>\n",
       "      <td>NON BULK</td>\n",
       "      <td>NA FOODSERVICE</td>\n",
       "      <td>X Managed</td>\n",
       "      <td>INGR</td>\n",
       "      <td>Y</td>\n",
       "      <td>Truck</td>\n",
       "      <td>2022-08-01</td>\n",
       "      <td>2022-07-11</td>\n",
       "      <td>2022-08-01</td>\n",
       "      <td>2022-08-01</td>\n",
       "      <td>21</td>\n",
       "      <td>0</td>\n",
       "      <td>0 days</td>\n",
       "      <td>0</td>\n",
       "    </tr>\n",
       "  </tbody>\n",
       "</table>\n",
       "<p>16171 rows × 17 columns</p>\n",
       "</div>"
      ],
      "text/plain": [
       "      Vendor     Material Description                    Plant  \\\n",
       "0         V1  VALUE-ADDED INGREDIENTS      Supreme Flour Mills   \n",
       "1         V2   NON-SUCROSE SWEETENERS      Supreme Flour Mills   \n",
       "2         V3                    SUGAR      Supreme Flour Mills   \n",
       "3         V4   NON-SUCROSE SWEETENERS    Rockman Manufacturing   \n",
       "4         V5                    FIBER    Rockman Manufacturing   \n",
       "...      ...                      ...                      ...   \n",
       "16225   V185                 STARCHES  Standard Bakery Mix LLC   \n",
       "16226   V185   NON-SUCROSE SWEETENERS      Supreme Flour Mills   \n",
       "16227   V185   NON-SUCROSE SWEETENERS    Rockman Manufacturing   \n",
       "16228   V185   NON-SUCROSE SWEETENERS    Rockman Manufacturing   \n",
       "16229   V185                 STARCHES  Standard Bakery Mix LLC   \n",
       "\n",
       "      Bulk Identifier     Fph Owning Div DY X vs Vendor Managed Matl Ty Cd  \\\n",
       "0            NON BULK  MEALS AND BAKING SOL      Vendor Managed       INGR   \n",
       "1                BULK                SNACKS      Vendor Managed       INGR   \n",
       "2            NON BULK  MEALS AND BAKING SOL      Vendor Managed       INGR   \n",
       "3            NON BULK                SNACKS           X Managed       INGR   \n",
       "4            NON BULK                SNACKS           X Managed       PACK   \n",
       "...               ...                   ...                 ...        ...   \n",
       "16225        NON BULK        NA FOODSERVICE           X Managed       INGR   \n",
       "16226        NON BULK  MEALS AND BAKING SOL           X Managed       INGR   \n",
       "16227        NON BULK                SNACKS           X Managed       INGR   \n",
       "16228        NON BULK                SNACKS           X Managed       INGR   \n",
       "16229        NON BULK        NA FOODSERVICE           X Managed       INGR   \n",
       "\n",
       "      Plant : X or Y            Shp Cond DY Arrival Dt PO Creation Dt  \\\n",
       "0                   X      Vendor Delivered 2023-02-23     2023-01-16   \n",
       "1                   X      Vendor Delivered 2022-10-12     2022-09-05   \n",
       "2                   X      Vendor Delivered 2022-06-24     2022-05-31   \n",
       "3                   X  Truck-Less Than Load 2023-02-18     2023-01-04   \n",
       "4                   X  Truck-Less Than Load 2022-12-20     2022-11-03   \n",
       "...               ...                   ...        ...            ...   \n",
       "16225               Y                 Truck 2022-10-13     2022-08-29   \n",
       "16226               X                 Truck 2023-03-02     2023-01-23   \n",
       "16227               X                 Truck 2022-10-19     2022-09-15   \n",
       "16228               X                 Truck 2022-11-10     2022-10-12   \n",
       "16229               Y                 Truck 2022-08-01     2022-07-11   \n",
       "\n",
       "      PO Delivery Dt Statistical Relevancy Dt  Lead Time  Delivery Delay  \\\n",
       "0         2023-02-24               2023-02-24         39               1   \n",
       "1         2022-10-12               2022-10-12         37               0   \n",
       "2         2022-06-24               2022-06-24         24               0   \n",
       "3         2023-02-13               2023-02-13         40              -5   \n",
       "4         2022-12-06               2022-12-06         33             -14   \n",
       "...              ...                      ...        ...             ...   \n",
       "16225     2022-10-12               2022-10-12         44              -1   \n",
       "16226     2023-02-27               2023-02-27         35              -3   \n",
       "16227     2022-10-19               2022-10-19         34               0   \n",
       "16228     2022-11-10               2022-11-10         29               0   \n",
       "16229     2022-08-01               2022-08-01         21               0   \n",
       "\n",
       "      Safety Time  Safety Days  \n",
       "0          0 days            0  \n",
       "1          0 days            0  \n",
       "2          0 days            0  \n",
       "3          0 days            0  \n",
       "4          0 days            0  \n",
       "...           ...          ...  \n",
       "16225      0 days            0  \n",
       "16226      0 days            0  \n",
       "16227      0 days            0  \n",
       "16228      0 days            0  \n",
       "16229      0 days            0  \n",
       "\n",
       "[16171 rows x 17 columns]"
      ]
     },
     "execution_count": 13,
     "metadata": {},
     "output_type": "execute_result"
    }
   ],
   "source": [
    "data"
   ]
  },
  {
   "cell_type": "markdown",
   "id": "dd749ffd",
   "metadata": {},
   "source": [
    "# 2. Impact of Shelf life, Volume and Mode of Transport on Safety Time"
   ]
  },
  {
   "cell_type": "markdown",
   "id": "01f3b708",
   "metadata": {},
   "source": [
    "Adding two new columns shelf life and volume based on average values for each material category perishable or non perishable.\n",
    "How the Safety time is affected for Different categories considering the volume and Shelf life of each Ingredient. Also conisdering how safety time is affected due to mode of transport."
   ]
  },
  {
   "cell_type": "code",
   "execution_count": 14,
   "id": "b0d4f7a9",
   "metadata": {},
   "outputs": [],
   "source": [
    "# Define mappings for perishable and non-perishable items\n",
    "perishable_items = {\n",
    "    'DAIRY': {'Item Type': 'Perishable', 'Volume': 150, 'Shelf Life': 21},\n",
    "    'EGGS': {'Item Type': 'Perishable', 'Volume': 35, 'Shelf Life': 28},\n",
    "    'FRUIT': {'Item Type': 'Perishable', 'Volume': 75, 'Shelf Life': 14},\n",
    "    'NUTS': {'Item Type': 'Perishable', 'Volume': 60, 'Shelf Life': 365},\n",
    "    'VEGETABLES': {'Item Type': 'Perishable', 'Volume': 35, 'Shelf Life': 28}\n",
    "}\n",
    "\n",
    "non_perishable_items = {\n",
    "    'CHOCOLATE/COCOA': {'Item Type': 'Non-Perishable', 'Volume': 750, 'Shelf Life': 365},\n",
    "    'DRY CORN': {'Item Type': 'Non-Perishable', 'Volume': 400, 'Shelf Life': 730},\n",
    "    'FATS AND OILS': {'Item Type': 'Non-Perishable', 'Volume': 160, 'Shelf Life': 365},\n",
    "    'FIBER': {'Item Type': 'Non-Perishable', 'Volume': 80, 'Shelf Life': 365},\n",
    "    'NEW PRODUCTS': {'Item Type': 'Non-Perishable', 'Volume': 0, 'Shelf Life': 365},  # Assumed value\n",
    "    'NON-SUCROSE SWEETENERS': {'Item Type': 'Non-Perishable', 'Volume': 40, 'Shelf Life': 1825},\n",
    "    'OATS': {'Item Type': 'Non-Perishable', 'Volume': 75, 'Shelf Life': 730},\n",
    "    'OTHER GRAINS': {'Item Type': 'Non-Perishable', 'Volume': 375, 'Shelf Life': 1825},\n",
    "    'PARTICULATES - COMM': {'Item Type': 'Non-Perishable', 'Volume': 0, 'Shelf Life': 0},\n",
    "    'PARTICULATES - VAI': {'Item Type': 'Non-Perishable', 'Volume': 0, 'Shelf Life': 0},\n",
    "    'RESIN': {'Item Type': 'Non-Perishable', 'Volume': 0, 'Shelf Life': 0},\n",
    "    'STARCHES': {'Item Type': 'Non-Perishable', 'Volume': 160, 'Shelf Life': 365},\n",
    "    'SUGAR': {'Item Type': 'Non-Perishable', 'Volume': 400, 'Shelf Life': 730},\n",
    "    'VALUE-ADDED INGREDIENTS': {'Item Type': 'Non-Perishable', 'Volume': 0, 'Shelf Life': 365},\n",
    "    'WHEAT': {'Item Type': 'Non-Perishable', 'Volume': 375, 'Shelf Life': 365}\n",
    "}\n",
    "\n",
    "# Create new columns 'Item Type', 'Volume', and 'Shelf Life' based on 'Material Description'\n",
    "data['Item Type'] = data['Material Description'].map(lambda x: perishable_items.get(x, {}).get('Item Type') or non_perishable_items.get(x, {}).get('Item Type'))\n",
    "data['Volume'] = data['Material Description'].map(lambda x: perishable_items.get(x, {}).get('Volume') or non_perishable_items.get(x, {}).get('Volume'))\n",
    "data['Shelf Life'] = data['Material Description'].map(lambda x: perishable_items.get(x, {}).get('Shelf Life') or non_perishable_items.get(x, {}).get('Shelf Life'))\n"
   ]
  },
  {
   "cell_type": "code",
   "execution_count": 15,
   "id": "d89cfbd7",
   "metadata": {},
   "outputs": [
    {
     "data": {
      "image/png": "[encoded data removed]",
      "text/plain": [
       "<Figure size 1296x720 with 1 Axes>"
      ]
     },
     "metadata": {
      "needs_background": "light"
     },
     "output_type": "display_data"
    }
   ],
   "source": [
    "# Define color codes for perishable and non-perishable items\n",
    "color_mapping = {\n",
    "    'Perishable': '#234190',  # Blue\n",
    "    'Non-Perishable': '#E32123'  # Red\n",
    "}\n",
    "\n",
    "# Create separate DataFrames for perishable and non-perishable items\n",
    "perishable_df = data[data['Item Type'] == 'Perishable']\n",
    "non_perishable_df = data[data['Item Type'] == 'Non-Perishable']\n",
    "\n",
    "# Create a scatter plot for perishable items\n",
    "plt.figure(figsize=(18, 10))\n",
    "plt.scatter(perishable_df['Volume'], perishable_df['Shelf Life'], c=color_mapping['Perishable'], label='Perishable Items')\n",
    "\n",
    "labeled_items = set()  # Keep track of labeled items\n",
    "\n",
    "for i, txt in enumerate(perishable_df['Material Description']):\n",
    "    if txt not in labeled_items:\n",
    "        plt.annotate(txt, (perishable_df['Volume'].iloc[i], perishable_df['Shelf Life'].iloc[i]), rotation=45, ha='right', va='bottom')\n",
    "        labeled_items.add(txt)\n",
    "\n",
    "# Create a scatter plot for non-perishable items\n",
    "plt.scatter(non_perishable_df['Volume'], non_perishable_df['Shelf Life'], c=color_mapping['Non-Perishable'], label='Non-Perishable Items')\n",
    "\n",
    "for i, txt in enumerate(non_perishable_df['Material Description']):\n",
    "    if txt not in labeled_items:\n",
    "        plt.annotate(txt, (non_perishable_df['Volume'].iloc[i], non_perishable_df['Shelf Life'].iloc[i]), rotation=45, ha='right', va='bottom')\n",
    "        labeled_items.add(txt)\n",
    "\n",
    "plt.xlabel('Volume (metric tons)')\n",
    "plt.ylabel('Shelf Life (days)')\n",
    "plt.title('Volume vs. Shelf Life')\n",
    "plt.legend()\n",
    "plt.show()\n"
   ]
  },
  {
   "cell_type": "markdown",
   "id": "4e54db91",
   "metadata": {},
   "source": [
    "<b>Inference:</b> From the assumed values we have non perishable items having lower shelf life and volume."
   ]
  },
  {
   "cell_type": "code",
   "execution_count": 16,
   "id": "26a033cb",
   "metadata": {},
   "outputs": [
    {
     "name": "stdout",
     "output_type": "stream",
     "text": [
      "Regression Summary for Safety days wrt Volume and Shelf Life:\n",
      "                            OLS Regression Results                            \n",
      "==============================================================================\n",
      "Dep. Variable:            Safety Days   R-squared:                       0.006\n",
      "Model:                            OLS   Adj. R-squared:                  0.005\n",
      "Method:                 Least Squares   F-statistic:                     45.66\n",
      "Date:                Wed, 04 Oct 2023   Prob (F-statistic):           1.68e-20\n",
      "Time:                        12:34:39   Log-Likelihood:                -41081.\n",
      "No. Observations:               16171   AIC:                         8.217e+04\n",
      "Df Residuals:                   16168   BIC:                         8.219e+04\n",
      "Df Model:                           2                                         \n",
      "Covariance Type:            nonrobust                                         \n",
      "==============================================================================\n",
      "                 coef    std err          t      P>|t|      [0.025      0.975]\n",
      "------------------------------------------------------------------------------\n",
      "const          0.6491      0.041     15.768      0.000       0.568       0.730\n",
      "Volume        -0.0005      0.000     -3.840      0.000      -0.001      -0.000\n",
      "Shelf Life    -0.0005   6.92e-05     -7.886      0.000      -0.001      -0.000\n",
      "==============================================================================\n",
      "Omnibus:                    22614.414   Durbin-Watson:                   1.400\n",
      "Prob(Omnibus):                  0.000   Jarque-Bera (JB):         18538269.940\n",
      "Skew:                           7.791   Prob(JB):                         0.00\n",
      "Kurtosis:                     168.138   Cond. No.                         980.\n",
      "==============================================================================\n",
      "\n",
      "Notes:\n",
      "[1] Standard Errors assume that the covariance matrix of the errors is correctly specified.\n"
     ]
    }
   ],
   "source": [
    "import statsmodels.api as sm\n",
    "\n",
    "# Regression analysis for perishable items\n",
    "model = sm.OLS(data['Safety Days'], sm.add_constant(data[['Volume', 'Shelf Life']])).fit()\n",
    "print(\"Regression Summary for Safety days wrt Volume and Shelf Life:\")\n",
    "print(model.summary())"
   ]
  },
  {
   "cell_type": "markdown",
   "id": "e96b38b8",
   "metadata": {},
   "source": [
    "<b>Inference:</b> So there is no significant corelation between safety time , shelf life and volume and the regression model also does not explain the data well due to low R square value. Hence real time data is needed for analysis compared to dummy data."
   ]
  },
  {
   "cell_type": "code",
   "execution_count": 17,
   "id": "66008a3b",
   "metadata": {},
   "outputs": [
    {
     "data": {
      "image/png": "[encoded data removed]",
      "text/plain": [
       "<Figure size 720x432 with 1 Axes>"
      ]
     },
     "metadata": {
      "needs_background": "light"
     },
     "output_type": "display_data"
    }
   ],
   "source": [
    "# Group the data by 'Shp Cond Dy' and calculate the averages\n",
    "averages = data.groupby('Shp Cond DY')[['Delivery Delay', 'Safety Days']].mean()\n",
    "\n",
    "# Extract x and y data for the line chart\n",
    "x = averages.index\n",
    "y_delivery_delay = averages['Delivery Delay']\n",
    "y_safety_days = averages['Safety Days']\n",
    "\n",
    "# Create a line chart\n",
    "plt.figure(figsize=(10, 6))\n",
    "plt.plot(x, y_delivery_delay, label='Average Delivery Delay', marker='o', color='#234190')  # Blue line\n",
    "plt.plot(x, y_safety_days, label='Average Safety Days', marker='o', color='#e32123')  # Red line\n",
    "\n",
    "# Add labels and legend\n",
    "plt.xlabel('Shp Cond DY')\n",
    "plt.ylabel('Average Days')\n",
    "plt.title('Average Delivery Delay and Safety Days by Shp Cond DY')\n",
    "plt.legend()\n",
    "\n",
    "# Show the plot\n",
    "plt.grid(True)\n",
    "plt.xticks(rotation=45)\n",
    "plt.tight_layout()\n",
    "plt.show()"
   ]
  },
  {
   "cell_type": "markdown",
   "id": "2b46f175",
   "metadata": {},
   "source": [
    "<b>Inference:</b> There is a significant increase in safety days when Ocean vessels is a mode of transport and for Truck- Private parcel mode ther is an unusual case where Average Delay is greater than Safety days hence these two areas need to be focused in terms of safety time."
   ]
  },
  {
   "cell_type": "markdown",
   "id": "8e5c1387",
   "metadata": {},
   "source": [
    "# 3. Safety Stock v Safety Time"
   ]
  },
  {
   "cell_type": "markdown",
   "id": "1ca5c33a",
   "metadata": {},
   "source": [
    "In this code, we use the Lead Time and Delivery Delay columns as proxies for lead time variability. Safety time is preferred when both the lead time and delivery delay are short (in this case, 7 days or less for lead time and 1 day or less for delivery delay). Otherwise, safety stock is preferred. You can customize the conditions to match your specific business requirements and dataset."
   ]
  },
  {
   "cell_type": "code",
   "execution_count": 33,
   "id": "30e9efba",
   "metadata": {},
   "outputs": [],
   "source": [
    "# Safety Time vs Safety Stock\n",
    "def preferred_safety_method(row):\n",
    "    if row['Lead Time'] <= 7 and row['Delivery Delay'] >= 1:\n",
    "        return 'Safety Time Preferred'\n",
    "    else:\n",
    "        return 'Safety Stock Preferred'\n",
    "\n",
    "data['Safety Preference'] = data.apply(preferred_safety_method, axis=1)"
   ]
  },
  {
   "cell_type": "code",
   "execution_count": 34,
   "id": "c27b52ec",
   "metadata": {},
   "outputs": [
    {
     "data": {
      "image/png": "[encoded data removed]",
      "text/plain": [
       "<Figure size 576x432 with 1 Axes>"
      ]
     },
     "metadata": {
      "needs_background": "light"
     },
     "output_type": "display_data"
    }
   ],
   "source": [
    "import matplotlib.pyplot as plt\n",
    "\n",
    "# Count the cases for each preference\n",
    "preference_counts = data['Safety Preference'].value_counts()\n",
    "\n",
    "# Plot the bar chart\n",
    "plt.figure(figsize=(8, 6))\n",
    "preference_counts.plot(kind='bar', color=['#e32123', '#234190'])\n",
    "plt.title('Safety Time vs Safety Stock Preference')\n",
    "plt.xlabel('Preference')\n",
    "plt.ylabel('Count')\n",
    "plt.xticks(rotation=0)\n",
    "plt.show()"
   ]
  },
  {
   "cell_type": "markdown",
   "id": "c57cf009",
   "metadata": {},
   "source": [
    "<b>Inference:</b> Hence safety stock is crucial for most cases"
   ]
  },
  {
   "cell_type": "markdown",
   "id": "523308d9",
   "metadata": {},
   "source": [
    "# 4. Effect of Seasonality on Safety times"
   ]
  },
  {
   "cell_type": "markdown",
   "id": "6319c6ff",
   "metadata": {},
   "source": [
    "In this code, we assume that winter months include December, January, and February, and all other months are considered non-winter. We calculate the average safety time for both winter and non-winter months and then decide whether different safety times should be maintained based on whether the averages differ."
   ]
  },
  {
   "cell_type": "code",
   "execution_count": 20,
   "id": "2fa2ef74",
   "metadata": {},
   "outputs": [
    {
     "name": "stdout",
     "output_type": "stream",
     "text": [
      "Maintain different safety times based on seasonality.\n",
      "Average Safety Time in Winter: 0.12788365095285859\n",
      "Average Safety Time in Non-Winter: 0.39891652302388575\n"
     ]
    }
   ],
   "source": [
    "# Convert date columns to datetime objects\n",
    "data['Arrival Dt'] = pd.to_datetime(data['Arrival Dt'])\n",
    "data['PO Delivery Dt'] = pd.to_datetime(data['PO Delivery Dt'])\n",
    "\n",
    "# Extract the month from the 'PO Delivery Dt'\n",
    "data['Delivery Month'] = data['PO Delivery Dt'].dt.month\n",
    "\n",
    "# Define a function to classify months as winter or non-winter\n",
    "def classify_season(month):\n",
    "    if month in [12, 1, 2]:  # Assuming December, January, and February as winter months\n",
    "        return 'Winter'\n",
    "    else:\n",
    "        return 'Non-Winter'\n",
    "\n",
    "# Apply the season classification function to each row\n",
    "data['Season'] = data['Delivery Month'].apply(classify_season)\n",
    "\n",
    "# Calculate the average safety time for winter and non-winter months\n",
    "average_safety_time_by_season = data.groupby('Season')['Safety Days'].mean()\n",
    "\n",
    "# Decide whether to maintain different safety times based on seasonality\n",
    "if average_safety_time_by_season['Winter'] != average_safety_time_by_season['Non-Winter']:\n",
    "    print(\"Maintain different safety times based on seasonality.\")\n",
    "    print(\"Average Safety Time in Winter:\", average_safety_time_by_season['Winter'])\n",
    "    print(\"Average Safety Time in Non-Winter:\", average_safety_time_by_season['Non-Winter'])\n",
    "else:\n",
    "    print(\"No need to maintain different safety times based on seasonality.\")\n"
   ]
  },
  {
   "cell_type": "markdown",
   "id": "319eda79",
   "metadata": {},
   "source": [
    "<b>Inference:</b> There is a need to maintain different safety times considering seasonality in ratio 1 : 4 for winter and non winter seaasons respectively "
   ]
  }
 ],
 "metadata": {
  "kernelspec": {
   "display_name": "Python 3 (ipykernel)",
   "language": "python",
   "name": "python3"
  },
  "language_info": {
   "codemirror_mode": {
    "name": "ipython",
    "version": 3
   },
   "file_extension": ".py",
   "mimetype": "text/x-python",
   "name": "python",
   "nbconvert_exporter": "python",
   "pygments_lexer": "ipython3",
   "version": "3.9.12"
  }
 },
 "nbformat": 4,
 "nbformat_minor": 5
}
